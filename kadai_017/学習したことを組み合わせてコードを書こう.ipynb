{
  "nbformat": 4,
  "nbformat_minor": 0,
  "metadata": {
    "colab": {
      "provenance": []
    },
    "kernelspec": {
      "name": "python3",
      "display_name": "Python 3"
    },
    "language_info": {
      "name": "python"
    }
  },
  "cells": [
    {
      "cell_type": "code",
      "execution_count": 2,
      "metadata": {
        "colab": {
          "base_uri": "https://localhost:8080/"
        },
        "id": "TFmnvdDsspkL",
        "outputId": "1fa019bd-ad6b-4490-f582-9afb66f37013"
      },
      "outputs": [
        {
          "output_type": "stream",
          "name": "stdout",
          "text": [
            "太郎さんは大人ではありません。\n",
            "花子さんは大人です。\n",
            "次郎さんは大人ではありません。\n",
            "美咲さんは大人です。\n",
            "健さんは大人です。\n"
          ]
        }
      ],
      "source": [
        "class Human:\n",
        "    def __init__(self, name: str, age: int):\n",
        "        self.name = name\n",
        "        self.age = age\n",
        "\n",
        "    def check_adult(self):\n",
        "        \"\"\"20歳以上かどうかを判定し、結果を返す\"\"\"\n",
        "        if self.age >= 20:\n",
        "            return f\"{self.name}さんは大人です。\"\n",
        "        else:\n",
        "            return f\"{self.name}さんは大人ではありません。\"\n",
        "\n",
        "\n",
        "# Humanクラスのインスタンスを5つ作成\n",
        "people = [\n",
        "    Human(\"太郎\", 18),\n",
        "    Human(\"花子\", 22),\n",
        "    Human(\"次郎\", 15),\n",
        "    Human(\"美咲\", 30),\n",
        "    Human(\"健\", 20)\n",
        "]\n",
        "\n",
        "# 各インスタンスの判定結果を表示\n",
        "for person in people:\n",
        "    print(person.check_adult())\n"
      ]
    },
    {
      "cell_type": "code",
      "source": [],
      "metadata": {
        "id": "C8JraBppsqD7"
      },
      "execution_count": null,
      "outputs": []
    }
  ]
}