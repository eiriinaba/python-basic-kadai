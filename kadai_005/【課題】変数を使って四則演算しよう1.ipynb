{
  "nbformat": 4,
  "nbformat_minor": 0,
  "metadata": {
    "colab": {
      "provenance": []
    },
    "kernelspec": {
      "name": "python3",
      "display_name": "Python 3"
    },
    "language_info": {
      "name": "python"
    }
  },
  "cells": [
    {
      "cell_type": "code",
      "execution_count": 1,
      "metadata": {
        "colab": {
          "base_uri": "https://localhost:8080/",
          "height": 106
        },
        "id": "coHP3VWVLm8r",
        "outputId": "e544fc0f-a694-4ce5-e74f-d917ce39e93f"
      },
      "outputs": [
        {
          "output_type": "error",
          "ename": "SyntaxError",
          "evalue": "invalid character '㎠' (U+33A0) (ipython-input-1-3581075213.py, line 10)",
          "traceback": [
            "\u001b[0;36m  File \u001b[0;32m\"/tmp/ipython-input-1-3581075213.py\"\u001b[0;36m, line \u001b[0;32m10\u001b[0m\n\u001b[0;31m    print(f\"台形の面積は{area_trapezoid} + \"㎠です。\")\u001b[0m\n\u001b[0m                                      ^\u001b[0m\n\u001b[0;31mSyntaxError\u001b[0m\u001b[0;31m:\u001b[0m invalid character '㎠' (U+33A0)\n"
          ]
        }
      ],
      "source": [
        "top_base = int(10)\n",
        "bottom_base = int(20)\n",
        "height = int(5)\n",
        "\n",
        "area_trapezoid = (top_base + bottom_base) * height / 2\n",
        "\n",
        "print(area_trapezoid)\n",
        "\n",
        "\n",
        "print(f\"台形の面積は{area_trapezoid}です。\")"
      ]
    },
    {
      "cell_type": "code",
      "source": [
        "top_base = int(10)\n",
        "bottom_base = int(20)\n",
        "height = int(5)\n",
        "\n",
        "area_trapezoid = (top_base + bottom_base) * height / 2\n",
        "\n",
        "print(\"台形の面積は\" + str(area_trapezoid) + \"㎠です。\")"
      ],
      "metadata": {
        "colab": {
          "base_uri": "https://localhost:8080/"
        },
        "id": "xacMs-_wG13_",
        "outputId": "bd7dbb4b-08e3-4201-f001-f63879dc1528"
      },
      "execution_count": 2,
      "outputs": [
        {
          "output_type": "stream",
          "name": "stdout",
          "text": [
            "台形の面積は75.0㎠です。\n"
          ]
        }
      ]
    }
  ]
}