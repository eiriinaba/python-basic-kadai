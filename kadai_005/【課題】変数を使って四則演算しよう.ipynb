{
  "nbformat": 4,
  "nbformat_minor": 0,
  "metadata": {
    "colab": {
      "provenance": []
    },
    "kernelspec": {
      "name": "python3",
      "display_name": "Python 3"
    },
    "language_info": {
      "name": "python"
    }
  },
  "cells": [
    {
      "cell_type": "code",
      "execution_count": null,
      "metadata": {
        "colab": {
          "base_uri": "https://localhost:8080/"
        },
        "id": "coHP3VWVLm8r",
        "outputId": "e1aded27-6e33-4afc-e067-c4939cfdf427"
      },
      "outputs": [
        {
          "output_type": "stream",
          "name": "stdout",
          "text": [
            "75.0\n"
          ]
        }
      ],
      "source": [
        "top_base = int(10)\n",
        "bottom_base = int(20)\n",
        "height = int(5)\n",
        "\n",
        "area_trapezoid = (top_base + bottom_base) * height / 2\n",
        "\n",
        "print(area_trapezoid)"
      ]
    }
  ]
}