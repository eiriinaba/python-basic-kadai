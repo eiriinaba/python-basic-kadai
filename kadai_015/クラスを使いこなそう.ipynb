{
  "nbformat": 4,
  "nbformat_minor": 0,
  "metadata": {
    "colab": {
      "provenance": []
    },
    "kernelspec": {
      "name": "python3",
      "display_name": "Python 3"
    },
    "language_info": {
      "name": "python"
    }
  },
  "cells": [
    {
      "cell_type": "code",
      "source": [
        "class Human:\n",
        "  def __init__(self):\n",
        "    self.name = \"\"\n",
        "    self.age = \"\"\n",
        "  def printinfo(self, name, age):\n",
        "    self.name = name\n",
        "    self.age = age\n",
        "    print(F\"{self.name}{self.age}歳\")\n",
        "\n",
        "human = Human()\n",
        "human.printinfo(\"サムライタロウ\", 55)"
      ],
      "metadata": {
        "id": "xm5a_DpOmzVn",
        "colab": {
          "base_uri": "https://localhost:8080/"
        },
        "outputId": "301547ae-3c1c-4a68-a3f3-b4ccef506feb"
      },
      "execution_count": 17,
      "outputs": [
        {
          "output_type": "stream",
          "name": "stdout",
          "text": [
            "サムライタロウ55歳\n"
          ]
        }
      ]
    }
  ]
}