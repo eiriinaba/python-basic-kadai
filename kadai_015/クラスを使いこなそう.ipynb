{
  "nbformat": 4,
  "nbformat_minor": 0,
  "metadata": {
    "colab": {
      "provenance": []
    },
    "kernelspec": {
      "name": "python3",
      "display_name": "Python 3"
    },
    "language_info": {
      "name": "python"
    }
  },
  "cells": [
    {
      "cell_type": "code",
      "source": [
        "class Human:\n",
        "  def __init__(self, name, age):\n",
        "    self.name = name\n",
        "    self.age = age\n",
        "\n",
        "  def printinfo(self):\n",
        "    print(f\"{self.name}\")\n",
        "    print(f\"{self.age}歳\")\n",
        "\n",
        "human = Human(\"サムライタロウ\", 55)\n",
        "human.printinfo()\n",
        "\n"
      ],
      "metadata": {
        "colab": {
          "base_uri": "https://localhost:8080/"
        },
        "id": "-cfEFXNGQMx8",
        "outputId": "29119217-bd2d-477d-f57b-f2dff9423c48"
      },
      "execution_count": 6,
      "outputs": [
        {
          "output_type": "stream",
          "name": "stdout",
          "text": [
            "サムライタロウ\n",
            "55歳\n"
          ]
        }
      ]
    }
  ]
}