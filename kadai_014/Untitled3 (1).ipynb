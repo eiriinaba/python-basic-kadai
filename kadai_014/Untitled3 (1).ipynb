{
  "nbformat": 4,
  "nbformat_minor": 0,
  "metadata": {
    "colab": {
      "provenance": []
    },
    "kernelspec": {
      "name": "python3",
      "display_name": "Python 3"
    },
    "language_info": {
      "name": "python"
    }
  },
  "cells": [
    {
      "cell_type": "code",
      "execution_count": 13,
      "metadata": {
        "colab": {
          "base_uri": "https://localhost:8080/"
        },
        "id": "HTx98qC9VAX3",
        "outputId": "b9af7d5d-40f2-40c4-a9bb-1c6c89180d9d"
      },
      "outputs": [
        {
          "output_type": "stream",
          "name": "stdout",
          "text": [
            "330.0\n"
          ]
        }
      ],
      "source": [
        "# グローバル変数の定義\n",
        "price1 = 100\n",
        "price2 = 200\n",
        "tax = 10 / 100\n",
        "\n",
        "# 関数内でグローバル変数を使う\n",
        "def total():\n",
        "    price_amount = price1 + price2  # グローバル変数を使用\n",
        "    return price_amount * (1 + tax)  # 税込み価格を計算\n",
        "\n",
        "# 戻り値を受け取って出力\n",
        "total_price = total()\n",
        "print(total_price)\n"
      ]
    }
  ]
}