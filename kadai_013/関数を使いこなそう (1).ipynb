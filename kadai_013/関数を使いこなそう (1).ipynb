{
  "nbformat": 4,
  "nbformat_minor": 0,
  "metadata": {
    "colab": {
      "provenance": []
    },
    "kernelspec": {
      "name": "python3",
      "display_name": "Python 3"
    },
    "language_info": {
      "name": "python"
    }
  },
  "cells": [
    {
      "cell_type": "code",
      "execution_count": 5,
      "metadata": {
        "colab": {
          "base_uri": "https://localhost:8080/"
        },
        "id": "zmEkmwhpunjU",
        "outputId": "c76a94cf-ede7-478c-def1-bc2fdc725d66"
      },
      "outputs": [
        {
          "output_type": "stream",
          "name": "stdout",
          "text": [
            "121.0円\n"
          ]
        },
        {
          "output_type": "execute_result",
          "data": {
            "text/plain": [
              "121.0"
            ]
          },
          "metadata": {},
          "execution_count": 5
        }
      ],
      "source": [
        "def calculate_total(price: int, tax: int):\n",
        "    return price + (price * tax / 100)\n",
        "\n",
        "total = calculate_total(110, 10)\n",
        "print(f\"{total}円\")\n",
        "\n",
        "calculate_total(110, 10)"
      ]
    }
  ]
}