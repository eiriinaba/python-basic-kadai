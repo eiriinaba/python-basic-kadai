{
  "nbformat": 4,
  "nbformat_minor": 0,
  "metadata": {
    "colab": {
      "provenance": []
    },
    "kernelspec": {
      "name": "python3",
      "display_name": "Python 3"
    },
    "language_info": {
      "name": "python"
    }
  },
  "cells": [
    {
      "cell_type": "code",
      "execution_count": 2,
      "metadata": {
        "colab": {
          "base_uri": "https://localhost:8080/"
        },
        "id": "zmEkmwhpunjU",
        "outputId": "81893192-dc61-4ad7-c834-dcaf97ca377f"
      },
      "outputs": [
        {
          "output_type": "stream",
          "name": "stdout",
          "text": [
            "1320.0円\n"
          ]
        }
      ],
      "source": [
        "def calculate_total(price, tax):\n",
        "  total = price + (price * tax)\n",
        "\n",
        "  print(f\"{total}円\")\n",
        "\n",
        "calculate_total(1200, 0.1)\n",
        "\n",
        "\n",
        "\n"
      ]
    }
  ]
}